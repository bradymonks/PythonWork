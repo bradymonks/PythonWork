{
 "cells": [
  {
   "cell_type": "markdown",
   "metadata": {},
   "source": [
    "# Web Mining and Applied NLP (44-620)\n",
    "\n",
    "## Web Scraping and NLP with Requests, BeautifulSoup, and spaCy\n",
    "\n",
    "### Student Name: Brady Monks\n",
    "\n",
    "### GitHub Repo URL: https://github.com/bradymonks/web-scraping \n",
    "\n",
    "Perform the tasks described in the Markdown cells below.  When you have completed the assignment make sure your code cells have all been run (and have output beneath them) and ensure you have committed and pushed ALL of your changes to your assignment repository.\n",
    "\n",
    "Every question that requires you to write code will have a code cell underneath it; you may either write your entire solution in that cell or write it in a python file (`.py`), then import and run the appropriate code to answer the question."
   ]
  },
  {
   "cell_type": "markdown",
   "metadata": {},
   "source": [
    "1. Write code that extracts the article html from https://web.archive.org/web/20210327165005/https://hackaday.com/2021/03/22/how-laser-headlights-work/ and dumps it to a .pkl (or other appropriate file)"
   ]
  },
  {
   "cell_type": "code",
   "execution_count": 1,
   "metadata": {},
   "outputs": [],
   "source": [
    "import requests\n",
    "article_page = requests.get('https://chiefswire.usatoday.com/2022/11/30/kansas-city-chiefs-patrick-mahomes-son-bronze-mahomes-nickname-origin-jackson-mahomes/')\n",
    "article_html = article_page.text\n",
    "\n",
    "# pickle works similar to json, but stores information in a binary format\n",
    "# json files are readable by humans, pickle files, not so much\n",
    "\n",
    "# BeautifulSoup objects don't pickle well, so it's appropriate and polite to web developers to cache the text of the web page, or just dump it to an html file you can read in later as a regular file\n",
    "import pickle\n",
    "with open('python-match.pkl', 'wb') as f:\n",
    "    pickle.dump(article_page.text, f)"
   ]
  },
  {
   "cell_type": "markdown",
   "metadata": {},
   "source": [
    "2. Read in your article's html source from the file you created in question 1 and print it's text (use `.get_text()`)"
   ]
  },
  {
   "cell_type": "code",
   "execution_count": 2,
   "metadata": {},
   "outputs": [],
   "source": [
    "from bs4 import BeautifulSoup\n",
    "parser = 'html.parser'\n",
    "soup = BeautifulSoup(article_html, parser)\n",
    "article_element = soup.find('article')"
   ]
  },
  {
   "cell_type": "code",
   "execution_count": 3,
   "metadata": {},
   "outputs": [
    {
     "name": "stdout",
     "output_type": "stream",
     "text": [
      "\n",
      "\n",
      "\n",
      "\n",
      "\n",
      "\n",
      "\n",
      "\n",
      "\n",
      "\n",
      "\n",
      "\n",
      "\n",
      "Chiefs QB Patrick Mahomes explains origin behind son's 'Bronze' nickname\n",
      "\n",
      "\n",
      "\n",
      "\t\t\tShare this article\t\t\n",
      "\n",
      "\t\t\t\t22k shares\n",
      "\t\t\n",
      "\n",
      "\n",
      " \n",
      "\t\t\t\t\tshare\t\t\t\t\n",
      "\n",
      "\n",
      "\n",
      " \n",
      "\t\t\t\t\ttweet\t\t\t\t\n",
      "\n",
      "\n",
      "\n",
      " \n",
      "\t\t\t\ttext\t\t\t\n",
      "\n",
      "\n",
      "\n",
      " \n",
      "\t\t\t\temail\t\t\t\n",
      "\n",
      "\n",
      "\n",
      " \n",
      "\t\t\t\tlink\t\t\t\n",
      "\n",
      "\n",
      "\n",
      " \n",
      "\n",
      "\n",
      "\n",
      "\n",
      " \n",
      "\t\t\t\ton Facebook\t\t\t\n",
      "\n",
      "\n",
      "\n",
      " \n",
      "\t\t\t\ton Twitter\t\t\t\n",
      "\n",
      "\n",
      "\n",
      " \n",
      "\t\t\t\tvia text message\t\t\t\n",
      "\n",
      "\n",
      "\n",
      " \n",
      "\t\t\t\ton LinkedIn\t\t\t\n",
      "\n",
      "\n",
      "\n",
      " \n",
      "\t\t\t\tvia email\t\t\t\n",
      "\n",
      "\n",
      "\n",
      " \n",
      "\t\t\t\thttps://chiefswire.usatoday.com/2022/11/30/kansas-city-chiefs-patrick-mahomes-son-bronze-mahomes-nickname-origin-jackson-mahomes/\t\t\t\n",
      "\n",
      "\n",
      "\n",
      "\n",
      "\n",
      "\n",
      "\n",
      "\n",
      "\n",
      "\n",
      "Charles Goldman \n",
      "\n",
      "\n",
      "\n",
      "November 30, 2022 1:50 pm CT\n",
      "\n",
      "\n",
      "\n",
      "\n",
      "\n",
      "\n",
      "\n",
      "\n",
      "Kansas City Chiefs QB Patrick Mahomes welcomed his son Patrick “Bronze” Lavon Mahomes III to the world on Monday, Nov. 28.\n",
      "Speaking to reporters for the first time since the birth of his son, Mahomes spoke about the emotions and feelings of welcoming a new bundle of joy to his family alongside Brittany and Sterling.\n",
      "Buy Chiefs Tickets\n",
      "“It’s cool, obviously,” Mahomes said. “It’s awesome to bring in a son to add to my family. Everything went great and everything went smooth — and Brittany (Mahomes) is a champ. So, it’s been really cool.”\n",
      "Much has been made about the “Bronze” nickname, which signifies that he’s Patrick Lavon Mahomes III, named after both his father and grandfather. The Chiefs’ quarterback explained to reporters on Wednesday exactly how that nickname came to be.\n",
      "“Yeah, when Brittany and I had Sterling we didn’t know if it was a girl or boy at first,” Mahomes explained. “So, we started thinking of girl’s and boy’s names. We wanted, obviously, (Sterling and Bronze) to have that connection for them to be brother and sister forever. And so, I’ve always wanted to do Patrick Lavon Mahomes III. I’ve thought about that since I was literally like five or six years old. I always thought (the nickname) was going to be ‘Tre’ as the third. You hear a lot of people doing that. My brother Jackson (Mahomes), whenever we were trying to find something that was a little unique and different, he said, ‘What about Bronze? It fits perfectly with Sterling.’ So we went with that.”\n",
      "The nickname allows the newest member of the Mahomes clan to have some independence, while also carrying on the family legacy. Maybe one day “Bronze” will be a professional athlete as his father and grandfather were.\n",
      "“It works out well,” Mahomes said. “He can have his own thing now where he’s not Patrick, he’s Bronze, even though he’s Patrick. And Sterling and Bronze can have that connection moving forward.”\n",
      "As for Mahomes’ father Pat Mahomes— he was in town for his grandson’s arrival. It was an emotional time for the new grandpa.\n",
      "“He was emotional, for sure,” Mahomes said of his father. “My dad as he has gotten older, he’s gotten a little bit more emotional I think as all of us do. He was here this weekend, so it worked out perfectly that my family got to see him before they left and went back to Tyler, Texas.”\n",
      "\n",
      "\n",
      "List\n",
      "\n",
      "Chiefs release updated depth chart for Week 13\n",
      "\n",
      "\n",
      "\n",
      "\n",
      " \n",
      "\n",
      "View\n",
      "\t\t\t\t3 items\t\n",
      "\n",
      "\n",
      "\n",
      "\n",
      "\n",
      " \n",
      "\n",
      "\n",
      "\n",
      "\n",
      "\t\t\tShare this article\t\t\n",
      "\n",
      "\t\t\t\t22k shares\n",
      "\t\t\n",
      "\n",
      "\n",
      " \n",
      "\t\t\t\t\tshare\t\t\t\t\n",
      "\n",
      "\n",
      "\n",
      " \n",
      "\t\t\t\t\ttweet\t\t\t\t\n",
      "\n",
      "\n",
      "\n",
      " \n",
      "\t\t\t\ttext\t\t\t\n",
      "\n",
      "\n",
      "\n",
      " \n",
      "\t\t\t\temail\t\t\t\n",
      "\n",
      "\n",
      "\n",
      " \n",
      "\t\t\t\tlink\t\t\t\n",
      "\n",
      "\n",
      "\n",
      " \n",
      "\n",
      "\n",
      "\n",
      "\n",
      " \n",
      "\t\t\t\ton Facebook\t\t\t\n",
      "\n",
      "\n",
      "\n",
      " \n",
      "\t\t\t\ton Twitter\t\t\t\n",
      "\n",
      "\n",
      "\n",
      " \n",
      "\t\t\t\tvia text message\t\t\t\n",
      "\n",
      "\n",
      "\n",
      " \n",
      "\t\t\t\ton LinkedIn\t\t\t\n",
      "\n",
      "\n",
      "\n",
      " \n",
      "\t\t\t\tvia email\t\t\t\n",
      "\n",
      "\n",
      "\n",
      " \n",
      "\t\t\t\thttps://chiefswire.usatoday.com/2022/11/30/kansas-city-chiefs-patrick-mahomes-son-bronze-mahomes-nickname-origin-jackson-mahomes/\t\t\t\n",
      "\n",
      "\n",
      "\n",
      "\n",
      " \n",
      "\n",
      "Like this article?\n",
      "Sign up for the Chiefs Wire newsletter to get our top stories in your inbox every morning\n",
      "\n",
      "\n",
      "Email\n",
      " \n",
      "\n",
      "\n",
      "\t\t\t\tSign up\t\t\t\t\n",
      "\n",
      "\n",
      "\n",
      "\t\t\t\t\tView all newsletters\t\t\t\t\n",
      "\n",
      "\n",
      "\n",
      "\n",
      "To leave a comment, you will need to \n",
      "\n",
      "\tSign in or create an account\n",
      "\n",
      "\n",
      "\n",
      "Login\n",
      "\n",
      "\n",
      " if you already have an account. Typed comments will be lost if you are not signed in.\n",
      "\n",
      " \n",
      "\n",
      " \n",
      "\n"
     ]
    }
   ],
   "source": [
    "print(article_element.get_text())"
   ]
  },
  {
   "cell_type": "markdown",
   "metadata": {},
   "source": [
    "3. Load the article text into a trained `spaCy` pipeline, and determine the 5 most frequent tokens (converted to lower case).  Print the common tokens with an appropriate label.  Additionally, print the tokens their frequencies (with appropriate labels). Make sure to remove things we don't care about (punctuation, stopwords, whitespace)."
   ]
  },
  {
   "cell_type": "code",
   "execution_count": 4,
   "metadata": {},
   "outputs": [],
   "source": [
    "import spacy\n",
    "from spacytextblob.spacytextblob import SpacyTextBlob\n",
    "\n",
    "nlp = spacy.load('en_core_web_sm')\n",
    "nlp.add_pipe('spacytextblob')\n",
    "doc = nlp(article_element.get_text())"
   ]
  },
  {
   "cell_type": "code",
   "execution_count": 5,
   "metadata": {},
   "outputs": [],
   "source": [
    "non_ws_tokens = []\n",
    "for token in doc:\n",
    "    if not token.is_space:\n",
    "        non_ws_tokens.append(token)"
   ]
  },
  {
   "cell_type": "code",
   "execution_count": 6,
   "metadata": {},
   "outputs": [
    {
     "name": "stdout",
     "output_type": "stream",
     "text": [
      "[('mahomes', 15), ('bronze', 8), ('patrick', 7), ('chiefs', 6), ('nickname', 5)]\n"
     ]
    }
   ],
   "source": [
    "def we_care_about(token):\n",
    "    return not (token.is_space or token.is_punct or token.is_stop)\n",
    "\n",
    "interesting_tokens = [token for token in doc if we_care_about(token)]\n",
    "int_tok_lower = []\n",
    "for word in interesting_tokens:\n",
    "    int_tok_lower.append(word.lower_)\n",
    "\n",
    "from collections import Counter  \n",
    "    \n",
    "token_freq = Counter(map(str,int_tok_lower))\n",
    "print(token_freq.most_common(5))"
   ]
  },
  {
   "cell_type": "markdown",
   "metadata": {},
   "source": [
    "4. Load the article text into a trained `spaCy` pipeline, and determine the 5 most frequent lemmas (converted to lower case).  Print the common lemmas with an appropriate label.  Additionally, print the lemmas with their frequencies (with appropriate labels). Make sure to remove things we don't care about (punctuation, stopwords, whitespace)."
   ]
  },
  {
   "cell_type": "code",
   "execution_count": 7,
   "metadata": {},
   "outputs": [
    {
     "name": "stdout",
     "output_type": "stream",
     "text": [
      "[('mahomes', 15), ('bronze', 8), ('patrick', 7), ('chiefs', 6), ('nickname', 5)]\n"
     ]
    }
   ],
   "source": [
    "interesting_lemmas = [token.lemma_ for token in doc if we_care_about(token)]\n",
    "\n",
    "int_lem_lower = []\n",
    "for word in interesting_tokens:\n",
    "    int_lem_lower.append(word.lower_)\n",
    "\n",
    "lemma_freq = Counter(int_lem_lower)\n",
    "print(lemma_freq.most_common(5))"
   ]
  },
  {
   "cell_type": "markdown",
   "metadata": {},
   "source": [
    "5. Define the following methods:\n",
    "    * `score_sentence_by_token(sentence, interesting_token)` that takes a sentence and a list of interesting token and returns the number of times that any of the interesting words appear in the sentence divided by the number of words in the sentence\n",
    "    * `score_sentence_by_lemma(sentence, interesting_lemmas)` that takes a sentence and a list of interesting lemmas and returns the number of times that any of the interesting lemmas appear in the sentence divided by the number of words in the sentence\n",
    "    \n",
    "You may find some of the code from the in class notes useful; feel free to use methods (rewrite them in this cell as well).  Test them by showing the score of the first sentence in your article using the frequent tokens and frequent lemmas identified in question 3."
   ]
  },
  {
   "cell_type": "code",
   "execution_count": 8,
   "metadata": {},
   "outputs": [],
   "source": [
    "sentences = list(doc.sents) \n",
    "\n",
    "token_words = set()\n",
    "for token, freq in token_freq.most_common(5):\n",
    "    token_words.add(token)\n",
    "\n",
    "def score_sentence_by_token(sentence,interesting_tokens):\n",
    "        tcount = 0\n",
    "        wcount = 0\n",
    "        for token in sentence:\n",
    "            if token.lemma_.lower() in interesting_tokens:\n",
    "                tcount += 1\n",
    "            wcount +=1\n",
    "        sent_str = str(sentence).replace('\\n','').replace('  ',' ')\n",
    "        print(round(tcount/wcount,2),':', sent_str)"
   ]
  },
  {
   "cell_type": "code",
   "execution_count": 9,
   "metadata": {},
   "outputs": [
    {
     "name": "stdout",
     "output_type": "stream",
     "text": [
      "0.06 : I always thought (the nickname) was going to be ‘Tre’ as the third.\n"
     ]
    }
   ],
   "source": [
    "score_sentence_by_token(sentences[13],token_words)"
   ]
  },
  {
   "cell_type": "code",
   "execution_count": 10,
   "metadata": {},
   "outputs": [],
   "source": [
    "sentences = list(doc.sents) \n",
    "\n",
    "lemmas_words = set()\n",
    "for lemma, freq in lemma_freq.most_common(5):\n",
    "    lemmas_words.add(lemma)\n",
    "\n",
    "def score_sentence_by_lemmas(sentence,interesting_lemmas):\n",
    "        lcount = 0\n",
    "        wcount = 0\n",
    "        for token in sentence:\n",
    "            if token.lemma_.lower() in interesting_lemmas:\n",
    "                lcount += 1\n",
    "            wcount +=1\n",
    "        # because there's a bunch of junk newlines, we'll replace those with nothing, as well as a little bit of whitespace\n",
    "        sent_str = str(sentence).replace('\\n','').replace('  ',' ')\n",
    "        print(round(lcount/wcount,4),':', sent_str)"
   ]
  },
  {
   "cell_type": "code",
   "execution_count": 11,
   "metadata": {},
   "outputs": [
    {
     "name": "stdout",
     "output_type": "stream",
     "text": [
      "0.027 : Speaking to reporters for the first time since the birth of his son, Mahomes spoke about the emotions and feelings of welcoming a new bundle of joy to his family alongside Brittany and Sterling.\n"
     ]
    }
   ],
   "source": [
    "score_sentence_by_lemmas(sentences[1],lemmas_words)"
   ]
  },
  {
   "cell_type": "markdown",
   "metadata": {},
   "source": [
    "6. Make a list containing the scores (using tokens) of every sentence in the article, and plot a histogram with appropriate titles and axis labels of the scores. From your histogram, what seems to be the most common range of scores (put the answer in a comment after your code)?"
   ]
  },
  {
   "cell_type": "code",
   "execution_count": 12,
   "metadata": {},
   "outputs": [],
   "source": [
    "tscores = []\n",
    "for sentence in sentences:\n",
    "    tcount = 0\n",
    "    wcount = 0\n",
    "    for token in sentence:\n",
    "        if token in token_words:\n",
    "            tcount += 1\n",
    "        wcount +=1\n",
    "    sent_str = str(sentence).replace('\\n','').replace('  ',' ')\n",
    "    tscores.append(round(tcount/wcount,3))\n",
    "    "
   ]
  },
  {
   "cell_type": "code",
   "execution_count": 13,
   "metadata": {},
   "outputs": [
    {
     "name": "stdout",
     "output_type": "stream",
     "text": [
      "[0.13, 0.03, 0.12, 0.0, 0.06, 0.0, 0.13, 0.11, 0.04, 0.0, 0.04, 0.14, 0.0, 0.06, 0.0, 0.07, 0.0, 0.0, 0.08, 0.06, 0.09, 0.09, 0.5, 0.08, 0.11, 0.0, 0.06, 0.0, 0.0, 0.02, 0.02, 0.0, 0.0]\n"
     ]
    }
   ],
   "source": [
    "print(tscores)"
   ]
  },
  {
   "cell_type": "code",
   "execution_count": 14,
   "metadata": {},
   "outputs": [
    {
     "data": {
      "image/png": "[encoded data removed]",
      "text/plain": [
       "<Figure size 432x288 with 1 Axes>"
      ]
     },
     "metadata": {
      "needs_background": "light"
     },
     "output_type": "display_data"
    }
   ],
   "source": [
    "import matplotlib.pyplot as plt\n",
    "plt.hist(tscores)\n",
    "plt.xlabel('Score')\n",
    "plt.ylabel('Count')\n",
    "plt.title('Score of Tokens')\n",
    "plt.show()"
   ]
  },
  {
   "cell_type": "markdown",
   "metadata": {},
   "source": [
    "### All but one score is under 0.2. You can tell that for the most part, the words don't show up often."
   ]
  },
  {
   "cell_type": "markdown",
   "metadata": {},
   "source": [
    "7. Make a list containing the scores (using lemmas) of every sentence in the article, and plot a histogram with appropriate titles and axis labels of the scores.  From your histogram, what seems to be the most common range of scores (put the answer in a comment after your code)?"
   ]
  },
  {
   "cell_type": "code",
   "execution_count": 15,
   "metadata": {},
   "outputs": [
    {
     "name": "stdout",
     "output_type": "stream",
     "text": [
      "[0.13, 0.03, 0.12, 0.0, 0.06, 0.0, 0.13, 0.11, 0.04, 0.0, 0.04, 0.14, 0.0, 0.06, 0.0, 0.07, 0.0, 0.0, 0.08, 0.06, 0.09, 0.09, 0.5, 0.08, 0.11, 0.0, 0.06, 0.0, 0.0, 0.02, 0.02, 0.0, 0.0]\n"
     ]
    }
   ],
   "source": [
    "lscores = []\n",
    "for sentence in sentences:\n",
    "    lcount = 0\n",
    "    wcount = 0\n",
    "    for token in sentence:\n",
    "        if token.lemma_.lower() in lemmas_words:\n",
    "            lcount += 1\n",
    "        wcount +=1\n",
    "    sent_str = str(sentence).replace('\\n','').replace('  ',' ')\n",
    "    lscores.append(round(lcount/wcount,2))\n",
    "print(lscores)"
   ]
  },
  {
   "cell_type": "code",
   "execution_count": 16,
   "metadata": {},
   "outputs": [
    {
     "data": {
      "image/png": "[encoded data removed]",
      "text/plain": [
       "<Figure size 432x288 with 1 Axes>"
      ]
     },
     "metadata": {
      "needs_background": "light"
     },
     "output_type": "display_data"
    }
   ],
   "source": [
    "import matplotlib.pyplot as plt\n",
    "plt.hist(lscores)\n",
    "plt.xlabel('Score')\n",
    "plt.ylabel('Count')\n",
    "plt.title('Score of Lemmas')\n",
    "plt.show()"
   ]
  },
  {
   "cell_type": "markdown",
   "metadata": {},
   "source": [
    "### Scores seem to be under .1, with the majority even below 0.05"
   ]
  },
  {
   "cell_type": "markdown",
   "metadata": {},
   "source": [
    "8. Which tokens and lexems would be ommitted from the lists generated in questions 3 and 4 if we only wanted to consider nouns as interesting words?  How might we change the code to only consider nouns? Put your answer in this Markdown cell (you can edit it by double clicking it).\n",
    "\n",
    "### If we only wanted to consider nouns, then I don't believe any of my words would be omitted. 'Patrick', 'Mahomes', 'Bronze', and 'Chiefs' are all names and 'nickname' is a noun. Spacy has a function called .noun_chunks, using this we could find the nouns and then run the counter function on that array of text. "
   ]
  }
 ],
 "metadata": {
  "kernelspec": {
   "display_name": "Python 3",
   "language": "python",
   "name": "python3"
  },
  "language_info": {
   "codemirror_mode": {
    "name": "ipython",
    "version": 3
   },
   "file_extension": ".py",
   "mimetype": "text/x-python",
   "name": "python",
   "nbconvert_exporter": "python",
   "pygments_lexer": "ipython3",
   "version": "3.8.5"
  }
 },
 "nbformat": 4,
 "nbformat_minor": 4
}
